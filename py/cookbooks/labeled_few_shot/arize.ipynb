{
 "cells": [
  {
   "cell_type": "markdown",
   "source": [
    "# Import the Zenbase Library"
   ],
   "metadata": {
    "collapsed": false
   }
  },
  {
   "cell_type": "code",
   "outputs": [],
   "source": [
    "import sys\n",
    "import subprocess\n",
    "\n",
    "def install_package(package):\n",
    "    try:\n",
    "        subprocess.check_call([sys.executable, \"-m\", \"pip\", \"install\", package])\n",
    "    except subprocess.CalledProcessError as e:\n",
    "        print(f\"Failed to install {package}: {e}\")\n",
    "        raise\n",
    "\n",
    "def install_packages(packages):\n",
    "    for package in packages:\n",
    "        install_package(package)\n",
    "\n",
    "try:\n",
    "    # Check if running in Google Colab\n",
    "    import google.colab\n",
    "    IN_COLAB = True\n",
    "except ImportError:\n",
    "    IN_COLAB = False\n",
    "\n",
    "if IN_COLAB:\n",
    "    # Install the zenbase package if running in Google Colab\n",
    "    # install_package('zenbase')\n",
    "    # Install the zenbse package from a GitHub branch if running in Google Colab\n",
    "    install_package('git+https://github.com/zenbase-ai/lib.git@main#egg=zenbase&subdirectory=py')\n",
    "\n",
    "    # List of other packages to install in Google Colab\n",
    "    additional_packages = [\n",
    "        'python-dotenv',\n",
    "        'arize-phoenix[evals]',\n",
    "        'openai',\n",
    "        'langchain',\n",
    "        'langchain_openai'\n",
    "    ]\n",
    "    \n",
    "    # Install additional packages\n",
    "    install_packages(additional_packages)\n",
    "\n",
    "# Now import the zenbase library\n",
    "try:\n",
    "    import zenbase\n",
    "except ImportError as e:\n",
    "    print(\"Failed to import zenbase: \", e)\n",
    "    raise"
   ],
   "metadata": {
    "collapsed": false,
    "ExecuteTime": {
     "end_time": "2024-07-11T19:27:09.475043Z",
     "start_time": "2024-07-11T19:27:09.464667Z"
    }
   },
   "execution_count": 1
  },
  {
   "cell_type": "markdown",
   "source": [
    "# Configure the Environment"
   ],
   "metadata": {
    "collapsed": false
   }
  },
  {
   "cell_type": "code",
   "execution_count": 2,
   "metadata": {
    "ExecuteTime": {
     "end_time": "2024-07-11T19:27:10.218990Z",
     "start_time": "2024-07-11T19:27:10.204761Z"
    }
   },
   "outputs": [
    {
     "data": {
      "text/plain": "True"
     },
     "execution_count": 2,
     "metadata": {},
     "output_type": "execute_result"
    }
   ],
   "source": [
    "from pathlib import Path\n",
    "from dotenv import load_dotenv\n",
    "\n",
    "# import os\n",
    "#\n",
    "# os.environ[\"OPENAI_API_KEY\"] = \"...\"\n",
    "# os.environ[\"LANGFUSE_HOST\"] = \"...\"\n",
    "# os.environ[\"LANGFUSE_PUBLIC_KEY\"] = \"...\"\n",
    "# os.environ[\"LANGFUSE_SECRET_KEY\"] = \"...\"\n",
    "\n",
    "load_dotenv(Path(\"../../.env.test\"), override=True)"
   ]
  },
  {
   "cell_type": "code",
   "execution_count": 3,
   "metadata": {
    "ExecuteTime": {
     "end_time": "2024-07-11T19:27:16.153673Z",
     "start_time": "2024-07-11T19:27:16.148457Z"
    }
   },
   "outputs": [],
   "source": [
    "import nest_asyncio\n",
    "\n",
    "nest_asyncio.apply()"
   ]
  },
  {
   "cell_type": "markdown",
   "source": [
    "# Initial Setup"
   ],
   "metadata": {
    "collapsed": false
   }
  },
  {
   "cell_type": "code",
   "outputs": [
    {
     "name": "stdout",
     "output_type": "stream",
     "text": [
      "🌍 To view the Phoenix app in your browser, visit http://localhost:6006/\n",
      "📖 For more information on how to use Phoenix, check out https://docs.arize.com/phoenix\n"
     ]
    }
   ],
   "source": [
    "# initiate the phoenix app\n",
    "import phoenix as px\n",
    "px.launch_app()\n",
    "# initiate the phoenix client\n",
    "arize_phoenix = px.Client()"
   ],
   "metadata": {
    "collapsed": false,
    "ExecuteTime": {
     "end_time": "2024-07-11T19:27:28.320455Z",
     "start_time": "2024-07-11T19:27:17.058809Z"
    }
   },
   "execution_count": 4
  },
  {
   "cell_type": "code",
   "execution_count": 5,
   "metadata": {
    "ExecuteTime": {
     "end_time": "2024-07-11T19:27:28.645107Z",
     "start_time": "2024-07-11T19:27:28.322600Z"
    }
   },
   "outputs": [],
   "source": [
    "from openai import OpenAI\n",
    "openai = OpenAI()"
   ]
  },
  {
   "cell_type": "code",
   "outputs": [
    {
     "name": "stdout",
     "output_type": "stream",
     "text": [
      "📤 Uploading dataset...\n",
      "💾 Examples uploaded: http://localhost:6006/datasets/RGF0YXNldDo0/examples\n",
      "🗄️ Dataset version ID: RGF0YXNldFZlcnNpb246NA==\n",
      "📤 Uploading dataset...\n",
      "💾 Examples uploaded: http://localhost:6006/datasets/RGF0YXNldDo1/examples\n",
      "🗄️ Dataset version ID: RGF0YXNldFZlcnNpb246NQ==\n",
      "📤 Uploading dataset...\n",
      "💾 Examples uploaded: http://localhost:6006/datasets/RGF0YXNldDo2/examples\n",
      "🗄️ Dataset version ID: RGF0YXNldFZlcnNpb246Ng==\n"
     ]
    }
   ],
   "source": [
    "from zenbase.utils import ksuid\n",
    "from zenbase.adaptors.arize import ZenArizeAdaptor\n",
    "# setup datasets\n",
    "import datasets\n",
    "gsm8k_dataset = datasets.load_dataset(\"gsm8k\", \"main\")\n",
    "zen_arize_adaptor = ZenArizeAdaptor(arize_phoenix)\n",
    "TESTSET_SIZE = 2\n",
    "TRAINSET_SIZE = 5\n",
    "VALIDATIONSET_SIZE = 2\n",
    "\n",
    "\n",
    "def create_dataset_with_examples(zen_arize_adaptor: ZenArizeAdaptor, prefix: str, item_set: list) -> str:\n",
    "    dataset_name = ksuid(prefix=prefix)\n",
    "\n",
    "    inputs = [{\"question\": example[\"question\"]} for example in item_set]\n",
    "    expected_outputs = [{\"answer\": example[\"answer\"]} for example in item_set]\n",
    "    zen_arize_adaptor.add_examples_to_dataset(dataset_name, inputs, expected_outputs)\n",
    "    return dataset_name\n",
    "\n",
    "train_set = create_dataset_with_examples(\n",
    "        zen_arize_adaptor,\n",
    "        \"GSM8K_train_set_parea_dataset\",\n",
    "        list(gsm8k_dataset[\"train\"].select(range(TRAINSET_SIZE))),\n",
    "    )\n",
    "\n",
    "validation_set = create_dataset_with_examples(\n",
    "        zen_arize_adaptor,\n",
    "        \"GSM8K_validation_set_parea_dataset\",\n",
    "        list(gsm8k_dataset[\"train\"].select(range(TRAINSET_SIZE + 1, TRAINSET_SIZE + VALIDATIONSET_SIZE + 1))),\n",
    "    )\n",
    "\n",
    "test_set = create_dataset_with_examples(\n",
    "        zen_arize_adaptor,\n",
    "        \"GSM8K_test_set_parea_dataset\",\n",
    "        list(gsm8k_dataset[\"test\"].select(range(TESTSET_SIZE))),\n",
    "    )"
   ],
   "metadata": {
    "collapsed": false,
    "ExecuteTime": {
     "end_time": "2024-07-11T19:43:53.103680Z",
     "start_time": "2024-07-11T19:43:47.594474Z"
    }
   },
   "execution_count": 24
  },
  {
   "cell_type": "markdown",
   "source": [
    "# What you already have should look like below:"
   ],
   "metadata": {
    "collapsed": false
   }
  },
  {
   "cell_type": "markdown",
   "source": [
    "## Your OpenAI Call should look like this with LangChain (It could be with OpenAI too, doesn't matter)"
   ],
   "metadata": {
    "collapsed": false
   }
  },
  {
   "cell_type": "code",
   "execution_count": 25,
   "metadata": {
    "ExecuteTime": {
     "end_time": "2024-07-11T19:43:53.109003Z",
     "start_time": "2024-07-11T19:43:53.105387Z"
    }
   },
   "outputs": [],
   "source": [
    "def langchain_chain(inputs) -> str:\n",
    "    from langchain_core.output_parsers import StrOutputParser\n",
    "    from langchain_core.prompts import ChatPromptTemplate\n",
    "    from langchain_openai import ChatOpenAI\n",
    "\n",
    "    messages = [\n",
    "        (\n",
    "            \"system\",\n",
    "            \"You are an expert math solver. Your answer must be just the number with no separators, and nothing else. Follow the format of the examples.\",  # noqa\n",
    "        )\n",
    "    ]\n",
    "    messages.append((\"user\", \"{question}\"))\n",
    "\n",
    "    chain = ChatPromptTemplate.from_messages(messages) | ChatOpenAI(model=\"gpt-3.5-turbo\") | StrOutputParser()\n",
    "\n",
    "    print(\"Mathing...\")\n",
    "    answer = chain.invoke(inputs[\"inputs\"])\n",
    "    return answer"
   ]
  },
  {
   "cell_type": "markdown",
   "source": [
    "## Your Scoring Function should look like this:"
   ],
   "metadata": {
    "collapsed": false
   }
  },
  {
   "cell_type": "code",
   "outputs": [],
   "source": [
    "def score_answer(output: str, expected: dict):\n",
    "    print(output, expected[\"outputs\"])\n",
    "    \"\"\"The first argument is the return value from the `langchain_chain` function above.\"\"\"\n",
    "    score = int(output == expected[\"outputs\"][\"answer\"].split(\"#### \")[-1])\n",
    "    return score"
   ],
   "metadata": {
    "collapsed": false,
    "ExecuteTime": {
     "end_time": "2024-07-11T19:44:24.477771Z",
     "start_time": "2024-07-11T19:44:24.474445Z"
    }
   },
   "execution_count": 28
  },
  {
   "cell_type": "markdown",
   "source": [
    "## Your Evaluation should look like this:"
   ],
   "metadata": {
    "collapsed": false
   }
  },
  {
   "cell_type": "code",
   "execution_count": 29,
   "metadata": {
    "ExecuteTime": {
     "end_time": "2024-07-11T19:44:29.045179Z",
     "start_time": "2024-07-11T19:44:25.100206Z"
    }
   },
   "outputs": [
    {
     "name": "stdout",
     "output_type": "stream",
     "text": [
      "🧪 Experiment started.\n",
      "📺 View dataset experiments: http://localhost:6006/datasets/RGF0YXNldDo2/experiments\n",
      "🔗 View this experiment: http://localhost:6006/datasets/RGF0YXNldDo2/compare?experimentId=RXhwZXJpbWVudDo3\n"
     ]
    },
    {
     "data": {
      "text/plain": "running tasks |          | 0/2 (0.0%) | ⏳ 00:00<? | ?it/s",
      "application/vnd.jupyter.widget-view+json": {
       "version_major": 2,
       "version_minor": 0,
       "model_id": "ec1b2fb33f5b459aad46ce35321887d1"
      }
     },
     "metadata": {},
     "output_type": "display_data"
    },
    {
     "name": "stdout",
     "output_type": "stream",
     "text": [
      "Mathing...\n",
      "Mathing...\n",
      "✅ Task runs completed.\n",
      "🧠 Evaluation started.\n"
     ]
    },
    {
     "data": {
      "text/plain": "running experiment evaluations |          | 0/2 (0.0%) | ⏳ 00:00<? | ?it/s",
      "application/vnd.jupyter.widget-view+json": {
       "version_major": 2,
       "version_minor": 0,
       "model_id": "5382787dc3b546f0b6a1a2c845b95a06"
      }
     },
     "metadata": {},
     "output_type": "display_data"
    },
    {
     "name": "stdout",
     "output_type": "stream",
     "text": [
      "16 - 3 - 4 = 9.  \n",
      "9 * 2 = 18.  \n",
      "Therefore, Janet makes 18 dollars every day at the farmers' market. {'answer': 'Janet sells 16 - 3 - 4 = <<16-3-4=9>>9 duck eggs a day.\\nShe makes 9 * 2 = $<<9*2=18>>18 every day at the farmer’s market.\\n#### 18'}\n",
      "3 {'answer': 'It takes 2/2=<<2/2=1>>1 bolt of white fiber\\nSo the total amount of fabric is 2+1=<<2+1=3>>3 bolts of fabric\\n#### 3'}\n",
      "\n",
      "🔗 View this experiment: http://localhost:6006/datasets/RGF0YXNldDo2/compare?experimentId=RXhwZXJpbWVudDo3\n",
      "\n",
      "Experiment Summary (07/11/24 01:44 PM -0600)\n",
      "--------------------------------------------\n",
      "      evaluator  n  n_scores  avg_score\n",
      "0  score_answer  2         2        0.5\n",
      "\n",
      "Tasks Summary (07/11/24 01:44 PM -0600)\n",
      "---------------------------------------\n",
      "   n_examples  n_runs  n_errors\n",
      "0           2       2         0\n"
     ]
    }
   ],
   "source": [
    "from phoenix.experiments import run_experiment\n",
    "\n",
    "experiment = run_experiment(\n",
    "                arize_phoenix.get_dataset(name=test_set),\n",
    "                langchain_chain,\n",
    "                experiment_name=\"Experiment-Name\",\n",
    "                evaluators=[score_answer],\n",
    "            )"
   ]
  },
  {
   "cell_type": "markdown",
   "source": [
    "# How you should do the few-shot learning"
   ],
   "metadata": {
    "collapsed": false
   }
  },
  {
   "cell_type": "markdown",
   "source": [
    "## Rewrite your langchain_chain function to use the `zenbase` decorators"
   ],
   "metadata": {
    "collapsed": false
   }
  },
  {
   "cell_type": "code",
   "outputs": [],
   "source": [
    "from zenbase.core.managers import ZenbaseTracer\n",
    "\n",
    "zenbase_tracer = ZenbaseTracer()\n"
   ],
   "metadata": {
    "collapsed": false,
    "ExecuteTime": {
     "end_time": "2024-07-11T19:44:31.907647Z",
     "start_time": "2024-07-11T19:44:31.903805Z"
    }
   },
   "execution_count": 30
  },
  {
   "cell_type": "code",
   "execution_count": 44,
   "metadata": {
    "ExecuteTime": {
     "end_time": "2024-07-11T19:46:01.894616Z",
     "start_time": "2024-07-11T19:46:01.890073Z"
    }
   },
   "outputs": [],
   "source": [
    "from zenbase.types import LMRequest, LMDemo\n",
    "@zenbase_tracer\n",
    "def zen_chain(request: LMRequest) -> str:\n",
    "    print(request)\n",
    "    from langchain_core.output_parsers import StrOutputParser\n",
    "    from langchain_core.prompts import ChatPromptTemplate\n",
    "    from langchain_openai import ChatOpenAI\n",
    "\n",
    "    messages = [\n",
    "        (\n",
    "            \"system\",\n",
    "            \"You are an expert math solver. Your answer must be just the number with no separators, and nothing else. Follow the format of the examples.\",  # noqa\n",
    "        )\n",
    "    ]\n",
    "    for demo in request.zenbase.task_demos:\n",
    "        messages += [\n",
    "            (\"user\", demo.inputs[\"question\"]),\n",
    "            (\"assistant\", demo.outputs[\"answer\"]),\n",
    "        ]\n",
    "\n",
    "    messages.append((\"user\", \"{question}\"))\n",
    "\n",
    "    chain = ChatPromptTemplate.from_messages(messages) | ChatOpenAI(model=\"gpt-3.5-turbo\") | StrOutputParser()\n",
    "\n",
    "    print(\"Mathing...\")\n",
    "    answer = chain.invoke(request.inputs[\"inputs\"])\n",
    "    return answer\n"
   ]
  },
  {
   "cell_type": "code",
   "outputs": [
    {
     "name": "stdout",
     "output_type": "stream",
     "text": [
      "LMRequest(zenbase=LMZenbase(task_demos=[], model_params={}), inputs={'inputs': {'question': 'What is 2 + 2?'}}, id='request_2j79Hit9mbvep0fAiAISWUiNoJT')\n",
      "Mathing...\n"
     ]
    }
   ],
   "source": [
    "return_langchain = zen_chain({\"inputs\": {\"question\": \"What is 2 + 2?\"}})\n"
   ],
   "metadata": {
    "collapsed": false,
    "ExecuteTime": {
     "end_time": "2024-07-11T19:46:03.338469Z",
     "start_time": "2024-07-11T19:46:02.696495Z"
    }
   },
   "execution_count": 45
  },
  {
   "cell_type": "markdown",
   "source": [
    "## Make your evaluation function to use the langfuse from the LMDemo and the langfuse from the Zenbase"
   ],
   "metadata": {
    "collapsed": false
   }
  },
  {
   "cell_type": "code",
   "outputs": [],
   "source": [
    "def score_answer(output: str, expected: dict):\n",
    "    print(output, expected[\"outputs\"])\n",
    "    \"\"\"The first argument is the return value from the `langchain_chain` function above.\"\"\"\n",
    "    # if there is any #### in the output\n",
    "    if \"####\" in expected[\"outputs\"][\"answer\"]:\n",
    "        output = output.split(\"#### \")[-1]\n",
    "\n",
    "    score = int(output == expected[\"outputs\"][\"answer\"].split(\"#### \")[-1])\n",
    "    return score"
   ],
   "metadata": {
    "collapsed": false,
    "ExecuteTime": {
     "end_time": "2024-07-11T19:46:04.649044Z",
     "start_time": "2024-07-11T19:46:04.644201Z"
    }
   },
   "execution_count": 46
  },
  {
   "cell_type": "markdown",
   "source": [
    "## Optimize the few-shot learning"
   ],
   "metadata": {
    "collapsed": false
   }
  },
  {
   "cell_type": "markdown",
   "source": [
    "### Define your optimizer:\n"
   ],
   "metadata": {
    "collapsed": false
   }
  },
  {
   "cell_type": "code",
   "execution_count": 47,
   "metadata": {
    "ExecuteTime": {
     "end_time": "2024-07-11T19:46:06.162147Z",
     "start_time": "2024-07-11T19:46:06.107736Z"
    }
   },
   "outputs": [],
   "source": [
    "from zenbase.optim.metric.labeled_few_shot import LabeledFewShot\n",
    "\n",
    "optimizer = LabeledFewShot(\n",
    "    demoset=zen_arize_adaptor.fetch_dataset_demos(train_set), ## The dataset to use for the few-shot learning and training\n",
    "    shots=3,\n",
    ")"
   ]
  },
  {
   "cell_type": "markdown",
   "source": [
    "### Perform the optimization"
   ],
   "metadata": {
    "collapsed": false
   }
  },
  {
   "cell_type": "code",
   "outputs": [
    {
     "name": "stdout",
     "output_type": "stream",
     "text": [
      "🧪 Experiment started.\n",
      "📺 View dataset experiments: http://localhost:6006/datasets/RGF0YXNldDo2/experiments\n",
      "🔗 View this experiment: http://localhost:6006/datasets/RGF0YXNldDo2/compare?experimentId=RXhwZXJpbWVudDoyMA==\n"
     ]
    },
    {
     "data": {
      "text/plain": "running tasks |          | 0/2 (0.0%) | ⏳ 00:00<? | ?it/s",
      "application/vnd.jupyter.widget-view+json": {
       "version_major": 2,
       "version_minor": 0,
       "model_id": "7269bd2d90654c68b3f56dd523cf4f5d"
      }
     },
     "metadata": {},
     "output_type": "display_data"
    },
    {
     "name": "stdout",
     "output_type": "stream",
     "text": [
      "LMRequest(zenbase=LMZenbase(task_demos=(LMDemo(inputs={'inputs': {'question': 'Julie is reading a 120-page book. Yesterday, she was able to read 12 pages and today, she read twice as many pages as yesterday. If she wants to read half of the remaining pages tomorrow, how many pages should she read?'}}, outputs={'outputs': {'answer': 'Maila read 12 x 2 = <<12*2=24>>24 pages today.\\nSo she was able to read a total of 12 + 24 = <<12+24=36>>36 pages since yesterday.\\nThere are 120 - 36 = <<120-36=84>>84 pages left to be read.\\nSince she wants to read half of the remaining pages tomorrow, then she should read 84/2 = <<84/2=42>>42 pages.\\n#### 42'}}, adaptor_object=None), LMDemo(inputs={'inputs': {'question': 'Natalia sold clips to 48 of her friends in April, and then she sold half as many clips in May. How many clips did Natalia sell altogether in April and May?'}}, outputs={'outputs': {'answer': 'Natalia sold 48/2 = <<48/2=24>>24 clips in May.\\nNatalia sold 48+24 = <<48+24=72>>72 clips altogether in April and May.\\n#### 72'}}, adaptor_object=None), LMDemo(inputs={'inputs': {'question': 'James writes a 3-page letter to 2 different friends twice a week.  How many pages does he write a year?'}}, outputs={'outputs': {'answer': 'He writes each friend 3*2=<<3*2=6>>6 pages a week\\nSo he writes 6*2=<<6*2=12>>12 pages every week\\nThat means he writes 12*52=<<12*52=624>>624 pages a year\\n#### 624'}}, adaptor_object=None)), model_params={}), inputs={'inputs': {'question': \"Janet’s ducks lay 16 eggs per day. She eats three for breakfast every morning and bakes muffins for her friends every day with four. She sells the remainder at the farmers' market daily for $2 per fresh duck egg. How much in dollars does she make every day at the farmers' market?\"}}, id='request_2j7DIjl9fQ0cv766462Y6eKGHBN')\n",
      "\u001B[91mTraceback (most recent call last):\n",
      "  File \"/Users/amir/workspace/zenbase-lib/py/.venv/lib/python3.10/site-packages/phoenix/experiments/functions.py\", line 312, in async_run_experiment\n",
      "    _output = task(*bound_task_args.args, **bound_task_args.kwargs)\n",
      "  File \"/Users/amir/workspace/zenbase-lib/py/src/zenbase/adaptors/arize/evaluation_helper.py\", line 63, in arize_adapted_function\n",
      "    return function(input)\n",
      "  File \"/Users/amir/workspace/zenbase-lib/py/src/zenbase/types.py\", line 170, in __call__\n",
      "    response = self.fn(request, *args, **kwargs)\n",
      "  File \"/Users/amir/workspace/zenbase-lib/py/src/zenbase/core/managers.py\", line 33, in wrapper\n",
      "    return self._execute_and_trace(function, func_name, request, lm_function, *args, **kwargs)\n",
      "  File \"/Users/amir/workspace/zenbase-lib/py/src/zenbase/core/managers.py\", line 91, in _execute_and_trace\n",
      "    output = func(**combined_args)\n",
      "  File \"/var/folders/47/_rbxm97j0kl5nm_6vv2m8h540000gn/T/ipykernel_52718/1357141018.py\", line 17, in zen_chain\n",
      "    (\"user\", demo.inputs[\"question\"]),\n",
      "KeyError: 'question'\n",
      "\n",
      "The above exception was the direct cause of the following exception:\n",
      "\n",
      "RuntimeError: task failed for example id 'RGF0YXNldEV4YW1wbGU6MTc=', repetition 1\n",
      "\u001B[0m\n",
      "LMRequest(zenbase=LMZenbase(task_demos=(LMDemo(inputs={'inputs': {'question': 'Julie is reading a 120-page book. Yesterday, she was able to read 12 pages and today, she read twice as many pages as yesterday. If she wants to read half of the remaining pages tomorrow, how many pages should she read?'}}, outputs={'outputs': {'answer': 'Maila read 12 x 2 = <<12*2=24>>24 pages today.\\nSo she was able to read a total of 12 + 24 = <<12+24=36>>36 pages since yesterday.\\nThere are 120 - 36 = <<120-36=84>>84 pages left to be read.\\nSince she wants to read half of the remaining pages tomorrow, then she should read 84/2 = <<84/2=42>>42 pages.\\n#### 42'}}, adaptor_object=None), LMDemo(inputs={'inputs': {'question': 'Natalia sold clips to 48 of her friends in April, and then she sold half as many clips in May. How many clips did Natalia sell altogether in April and May?'}}, outputs={'outputs': {'answer': 'Natalia sold 48/2 = <<48/2=24>>24 clips in May.\\nNatalia sold 48+24 = <<48+24=72>>72 clips altogether in April and May.\\n#### 72'}}, adaptor_object=None), LMDemo(inputs={'inputs': {'question': 'James writes a 3-page letter to 2 different friends twice a week.  How many pages does he write a year?'}}, outputs={'outputs': {'answer': 'He writes each friend 3*2=<<3*2=6>>6 pages a week\\nSo he writes 6*2=<<6*2=12>>12 pages every week\\nThat means he writes 12*52=<<12*52=624>>624 pages a year\\n#### 624'}}, adaptor_object=None)), model_params={}), inputs={'inputs': {'question': 'A robe takes 2 bolts of blue fiber and half that much white fiber.  How many bolts in total does it take?'}}, id='request_2j7DImNQ6Bfp53Y0Oy6lJ5kYNWd')\n",
      "\u001B[91mTraceback (most recent call last):\n",
      "  File \"/Users/amir/workspace/zenbase-lib/py/.venv/lib/python3.10/site-packages/phoenix/experiments/functions.py\", line 312, in async_run_experiment\n",
      "    _output = task(*bound_task_args.args, **bound_task_args.kwargs)\n",
      "  File \"/Users/amir/workspace/zenbase-lib/py/src/zenbase/adaptors/arize/evaluation_helper.py\", line 63, in arize_adapted_function\n",
      "    return function(input)\n",
      "  File \"/Users/amir/workspace/zenbase-lib/py/src/zenbase/types.py\", line 170, in __call__\n",
      "    response = self.fn(request, *args, **kwargs)\n",
      "  File \"/Users/amir/workspace/zenbase-lib/py/src/zenbase/core/managers.py\", line 33, in wrapper\n",
      "    return self._execute_and_trace(function, func_name, request, lm_function, *args, **kwargs)\n",
      "  File \"/Users/amir/workspace/zenbase-lib/py/src/zenbase/core/managers.py\", line 91, in _execute_and_trace\n",
      "    output = func(**combined_args)\n",
      "  File \"/var/folders/47/_rbxm97j0kl5nm_6vv2m8h540000gn/T/ipykernel_52718/1357141018.py\", line 17, in zen_chain\n",
      "    (\"user\", demo.inputs[\"question\"]),\n",
      "KeyError: 'question'\n",
      "\n",
      "The above exception was the direct cause of the following exception:\n",
      "\n",
      "RuntimeError: task failed for example id 'RGF0YXNldEV4YW1wbGU6MTg=', repetition 1\n",
      "\u001B[0m\n",
      "✅ Task runs completed.\n",
      "🧠 Evaluation started.\n"
     ]
    },
    {
     "data": {
      "text/plain": "running experiment evaluations |          | 0/2 (0.0%) | ⏳ 00:00<? | ?it/s",
      "application/vnd.jupyter.widget-view+json": {
       "version_major": 2,
       "version_minor": 0,
       "model_id": "369d97015611411aa66e4c7f00864bcb"
      }
     },
     "metadata": {},
     "output_type": "display_data"
    },
    {
     "name": "stdout",
     "output_type": "stream",
     "text": [
      "None {'answer': 'Janet sells 16 - 3 - 4 = <<16-3-4=9>>9 duck eggs a day.\\nShe makes 9 * 2 = $<<9*2=18>>18 every day at the farmer’s market.\\n#### 18'}\n",
      "\u001B[91mTraceback (most recent call last):\n",
      "  File \"/Users/amir/workspace/zenbase-lib/py/.venv/lib/python3.10/site-packages/phoenix/experiments/functions.py\", line 560, in async_evaluate_run\n",
      "    result = await evaluator.async_evaluate(\n",
      "  File \"/Users/amir/workspace/zenbase-lib/py/.venv/lib/python3.10/site-packages/phoenix/experiments/evaluators/base.py\", line 76, in async_evaluate\n",
      "    return self.evaluate(\n",
      "  File \"/Users/amir/workspace/zenbase-lib/py/.venv/lib/python3.10/site-packages/phoenix/experiments/evaluators/utils.py\", line 149, in evaluate\n",
      "    result = func(*bound_signature.args, **bound_signature.kwargs)\n",
      "  File \"/var/folders/47/_rbxm97j0kl5nm_6vv2m8h540000gn/T/ipykernel_52718/2607286871.py\", line 6, in score_answer\n",
      "    output = output.split(\"#### \")[-1]\n",
      "AttributeError: 'NoneType' object has no attribute 'split'\n",
      "\n",
      "The above exception was the direct cause of the following exception:\n",
      "\n",
      "RuntimeError: evaluator failed for example id 'RGF0YXNldEV4YW1wbGU6MTc=', repetition 1\n",
      "\u001B[0m\n",
      "None {'answer': 'It takes 2/2=<<2/2=1>>1 bolt of white fiber\\nSo the total amount of fabric is 2+1=<<2+1=3>>3 bolts of fabric\\n#### 3'}\n",
      "\u001B[91mTraceback (most recent call last):\n",
      "  File \"/Users/amir/workspace/zenbase-lib/py/.venv/lib/python3.10/site-packages/phoenix/experiments/functions.py\", line 560, in async_evaluate_run\n",
      "    result = await evaluator.async_evaluate(\n",
      "  File \"/Users/amir/workspace/zenbase-lib/py/.venv/lib/python3.10/site-packages/phoenix/experiments/evaluators/base.py\", line 76, in async_evaluate\n",
      "    return self.evaluate(\n",
      "  File \"/Users/amir/workspace/zenbase-lib/py/.venv/lib/python3.10/site-packages/phoenix/experiments/evaluators/utils.py\", line 149, in evaluate\n",
      "    result = func(*bound_signature.args, **bound_signature.kwargs)\n",
      "  File \"/var/folders/47/_rbxm97j0kl5nm_6vv2m8h540000gn/T/ipykernel_52718/2607286871.py\", line 6, in score_answer\n",
      "    output = output.split(\"#### \")[-1]\n",
      "AttributeError: 'NoneType' object has no attribute 'split'\n",
      "\n",
      "The above exception was the direct cause of the following exception:\n",
      "\n",
      "RuntimeError: evaluator failed for example id 'RGF0YXNldEV4YW1wbGU6MTg=', repetition 1\n",
      "\u001B[0m\n",
      "\n",
      "🔗 View this experiment: http://localhost:6006/datasets/RGF0YXNldDo2/compare?experimentId=RXhwZXJpbWVudDoyMA==\n",
      "\n",
      "Experiment Summary (07/11/24 02:19 PM -0600)\n",
      "--------------------------------------------\n",
      "      evaluator  n  n_errors  \\\n",
      "0  score_answer  2         2   \n",
      "\n",
      "                                           top_error  \n",
      "0  AttributeError(\"'NoneType' object has no attri...  \n",
      "\n",
      "Tasks Summary (07/11/24 02:19 PM -0600)\n",
      "---------------------------------------\n",
      "   n_examples  n_runs  n_errors             top_error\n",
      "0           2       2         2  KeyError('question')\n",
      "\u001B[2m2024-07-11 14:19:05\u001B[0m [\u001B[31m\u001B[1merror    \u001B[0m] \u001B[1mcandidate evaluation failed   \u001B[0m \u001B[36merror\u001B[0m=\u001B[35mAttributeError(\"'NoneType' object has no attribute 'score'\")\u001B[0m\n",
      "🧪 Experiment started.\n",
      "📺 View dataset experiments: http://localhost:6006/datasets/RGF0YXNldDo2/experiments\n",
      "🔗 View this experiment: http://localhost:6006/datasets/RGF0YXNldDo2/compare?experimentId=RXhwZXJpbWVudDoyMQ==\n"
     ]
    },
    {
     "data": {
      "text/plain": "running tasks |          | 0/2 (0.0%) | ⏳ 00:00<? | ?it/s",
      "application/vnd.jupyter.widget-view+json": {
       "version_major": 2,
       "version_minor": 0,
       "model_id": "97584686017f4b0baa036d88ad90ea02"
      }
     },
     "metadata": {},
     "output_type": "display_data"
    },
    {
     "name": "stdout",
     "output_type": "stream",
     "text": [
      "LMRequest(zenbase=LMZenbase(task_demos=(LMDemo(inputs={'inputs': {'question': 'Natalia sold clips to 48 of her friends in April, and then she sold half as many clips in May. How many clips did Natalia sell altogether in April and May?'}}, outputs={'outputs': {'answer': 'Natalia sold 48/2 = <<48/2=24>>24 clips in May.\\nNatalia sold 48+24 = <<48+24=72>>72 clips altogether in April and May.\\n#### 72'}}, adaptor_object=None), LMDemo(inputs={'inputs': {'question': 'Weng earns $12 an hour for babysitting. Yesterday, she just did 50 minutes of babysitting. How much did she earn?'}}, outputs={'outputs': {'answer': 'Weng earns 12/60 = $<<12/60=0.2>>0.2 per minute.\\nWorking 50 minutes, she earned 0.2 x 50 = $<<0.2*50=10>>10.\\n#### 10'}}, adaptor_object=None), LMDemo(inputs={'inputs': {'question': 'James writes a 3-page letter to 2 different friends twice a week.  How many pages does he write a year?'}}, outputs={'outputs': {'answer': 'He writes each friend 3*2=<<3*2=6>>6 pages a week\\nSo he writes 6*2=<<6*2=12>>12 pages every week\\nThat means he writes 12*52=<<12*52=624>>624 pages a year\\n#### 624'}}, adaptor_object=None)), model_params={}), inputs={'inputs': {'question': \"Janet’s ducks lay 16 eggs per day. She eats three for breakfast every morning and bakes muffins for her friends every day with four. She sells the remainder at the farmers' market daily for $2 per fresh duck egg. How much in dollars does she make every day at the farmers' market?\"}}, id='request_2j7DJ1CAot9rQdJWEJJakmUMWlQ')\n",
      "\u001B[91mTraceback (most recent call last):\n",
      "  File \"/Users/amir/workspace/zenbase-lib/py/.venv/lib/python3.10/site-packages/phoenix/experiments/functions.py\", line 312, in async_run_experiment\n",
      "    _output = task(*bound_task_args.args, **bound_task_args.kwargs)\n",
      "  File \"/Users/amir/workspace/zenbase-lib/py/src/zenbase/adaptors/arize/evaluation_helper.py\", line 63, in arize_adapted_function\n",
      "    return function(input)\n",
      "  File \"/Users/amir/workspace/zenbase-lib/py/src/zenbase/types.py\", line 170, in __call__\n",
      "    response = self.fn(request, *args, **kwargs)\n",
      "  File \"/Users/amir/workspace/zenbase-lib/py/src/zenbase/core/managers.py\", line 33, in wrapper\n",
      "    return self._execute_and_trace(function, func_name, request, lm_function, *args, **kwargs)\n",
      "  File \"/Users/amir/workspace/zenbase-lib/py/src/zenbase/core/managers.py\", line 91, in _execute_and_trace\n",
      "    output = func(**combined_args)\n",
      "  File \"/var/folders/47/_rbxm97j0kl5nm_6vv2m8h540000gn/T/ipykernel_52718/1357141018.py\", line 17, in zen_chain\n",
      "    (\"user\", demo.inputs[\"question\"]),\n",
      "KeyError: 'question'\n",
      "\n",
      "The above exception was the direct cause of the following exception:\n",
      "\n",
      "RuntimeError: task failed for example id 'RGF0YXNldEV4YW1wbGU6MTc=', repetition 1\n",
      "\u001B[0m\n",
      "LMRequest(zenbase=LMZenbase(task_demos=(LMDemo(inputs={'inputs': {'question': 'Natalia sold clips to 48 of her friends in April, and then she sold half as many clips in May. How many clips did Natalia sell altogether in April and May?'}}, outputs={'outputs': {'answer': 'Natalia sold 48/2 = <<48/2=24>>24 clips in May.\\nNatalia sold 48+24 = <<48+24=72>>72 clips altogether in April and May.\\n#### 72'}}, adaptor_object=None), LMDemo(inputs={'inputs': {'question': 'Weng earns $12 an hour for babysitting. Yesterday, she just did 50 minutes of babysitting. How much did she earn?'}}, outputs={'outputs': {'answer': 'Weng earns 12/60 = $<<12/60=0.2>>0.2 per minute.\\nWorking 50 minutes, she earned 0.2 x 50 = $<<0.2*50=10>>10.\\n#### 10'}}, adaptor_object=None), LMDemo(inputs={'inputs': {'question': 'James writes a 3-page letter to 2 different friends twice a week.  How many pages does he write a year?'}}, outputs={'outputs': {'answer': 'He writes each friend 3*2=<<3*2=6>>6 pages a week\\nSo he writes 6*2=<<6*2=12>>12 pages every week\\nThat means he writes 12*52=<<12*52=624>>624 pages a year\\n#### 624'}}, adaptor_object=None)), model_params={}), inputs={'inputs': {'question': 'A robe takes 2 bolts of blue fiber and half that much white fiber.  How many bolts in total does it take?'}}, id='request_2j7DJ2UhO2OeElLesv2xaHUv0Ou')\n",
      "\u001B[91mTraceback (most recent call last):\n",
      "  File \"/Users/amir/workspace/zenbase-lib/py/.venv/lib/python3.10/site-packages/phoenix/experiments/functions.py\", line 312, in async_run_experiment\n",
      "    _output = task(*bound_task_args.args, **bound_task_args.kwargs)\n",
      "  File \"/Users/amir/workspace/zenbase-lib/py/src/zenbase/adaptors/arize/evaluation_helper.py\", line 63, in arize_adapted_function\n",
      "    return function(input)\n",
      "  File \"/Users/amir/workspace/zenbase-lib/py/src/zenbase/types.py\", line 170, in __call__\n",
      "    response = self.fn(request, *args, **kwargs)\n",
      "  File \"/Users/amir/workspace/zenbase-lib/py/src/zenbase/core/managers.py\", line 33, in wrapper\n",
      "    return self._execute_and_trace(function, func_name, request, lm_function, *args, **kwargs)\n",
      "  File \"/Users/amir/workspace/zenbase-lib/py/src/zenbase/core/managers.py\", line 91, in _execute_and_trace\n",
      "    output = func(**combined_args)\n",
      "  File \"/var/folders/47/_rbxm97j0kl5nm_6vv2m8h540000gn/T/ipykernel_52718/1357141018.py\", line 17, in zen_chain\n",
      "    (\"user\", demo.inputs[\"question\"]),\n",
      "KeyError: 'question'\n",
      "\n",
      "The above exception was the direct cause of the following exception:\n",
      "\n",
      "RuntimeError: task failed for example id 'RGF0YXNldEV4YW1wbGU6MTg=', repetition 1\n",
      "\u001B[0m\n",
      "✅ Task runs completed.\n",
      "🧠 Evaluation started.\n"
     ]
    },
    {
     "data": {
      "text/plain": "running experiment evaluations |          | 0/2 (0.0%) | ⏳ 00:00<? | ?it/s",
      "application/vnd.jupyter.widget-view+json": {
       "version_major": 2,
       "version_minor": 0,
       "model_id": "a5860971628143b0b94284e3b85d1d73"
      }
     },
     "metadata": {},
     "output_type": "display_data"
    },
    {
     "name": "stdout",
     "output_type": "stream",
     "text": [
      "None {'answer': 'Janet sells 16 - 3 - 4 = <<16-3-4=9>>9 duck eggs a day.\\nShe makes 9 * 2 = $<<9*2=18>>18 every day at the farmer’s market.\\n#### 18'}\n",
      "\u001B[91mTraceback (most recent call last):\n",
      "  File \"/Users/amir/workspace/zenbase-lib/py/.venv/lib/python3.10/site-packages/phoenix/experiments/functions.py\", line 560, in async_evaluate_run\n",
      "    result = await evaluator.async_evaluate(\n",
      "  File \"/Users/amir/workspace/zenbase-lib/py/.venv/lib/python3.10/site-packages/phoenix/experiments/evaluators/base.py\", line 76, in async_evaluate\n",
      "    return self.evaluate(\n",
      "  File \"/Users/amir/workspace/zenbase-lib/py/.venv/lib/python3.10/site-packages/phoenix/experiments/evaluators/utils.py\", line 149, in evaluate\n",
      "    result = func(*bound_signature.args, **bound_signature.kwargs)\n",
      "  File \"/var/folders/47/_rbxm97j0kl5nm_6vv2m8h540000gn/T/ipykernel_52718/2607286871.py\", line 6, in score_answer\n",
      "    output = output.split(\"#### \")[-1]\n",
      "AttributeError: 'NoneType' object has no attribute 'split'\n",
      "\n",
      "The above exception was the direct cause of the following exception:\n",
      "\n",
      "RuntimeError: evaluator failed for example id 'RGF0YXNldEV4YW1wbGU6MTc=', repetition 1\n",
      "\u001B[0m\n",
      "None {'answer': 'It takes 2/2=<<2/2=1>>1 bolt of white fiber\\nSo the total amount of fabric is 2+1=<<2+1=3>>3 bolts of fabric\\n#### 3'}\n",
      "\u001B[91mTraceback (most recent call last):\n",
      "  File \"/Users/amir/workspace/zenbase-lib/py/.venv/lib/python3.10/site-packages/phoenix/experiments/functions.py\", line 560, in async_evaluate_run\n",
      "    result = await evaluator.async_evaluate(\n",
      "  File \"/Users/amir/workspace/zenbase-lib/py/.venv/lib/python3.10/site-packages/phoenix/experiments/evaluators/base.py\", line 76, in async_evaluate\n",
      "    return self.evaluate(\n",
      "  File \"/Users/amir/workspace/zenbase-lib/py/.venv/lib/python3.10/site-packages/phoenix/experiments/evaluators/utils.py\", line 149, in evaluate\n",
      "    result = func(*bound_signature.args, **bound_signature.kwargs)\n",
      "  File \"/var/folders/47/_rbxm97j0kl5nm_6vv2m8h540000gn/T/ipykernel_52718/2607286871.py\", line 6, in score_answer\n",
      "    output = output.split(\"#### \")[-1]\n",
      "AttributeError: 'NoneType' object has no attribute 'split'\n",
      "\n",
      "The above exception was the direct cause of the following exception:\n",
      "\n",
      "RuntimeError: evaluator failed for example id 'RGF0YXNldEV4YW1wbGU6MTg=', repetition 1\n",
      "\u001B[0m\n",
      "\n",
      "🔗 View this experiment: http://localhost:6006/datasets/RGF0YXNldDo2/compare?experimentId=RXhwZXJpbWVudDoyMQ==\n",
      "\n",
      "Experiment Summary (07/11/24 02:19 PM -0600)\n",
      "--------------------------------------------\n",
      "      evaluator  n  n_errors  \\\n",
      "0  score_answer  2         2   \n",
      "\n",
      "                                           top_error  \n",
      "0  AttributeError(\"'NoneType' object has no attri...  \n",
      "\n",
      "Tasks Summary (07/11/24 02:19 PM -0600)\n",
      "---------------------------------------\n",
      "   n_examples  n_runs  n_errors             top_error\n",
      "0           2       2         2  KeyError('question')\n",
      "\u001B[2m2024-07-11 14:19:07\u001B[0m [\u001B[31m\u001B[1merror    \u001B[0m] \u001B[1mcandidate evaluation failed   \u001B[0m \u001B[36merror\u001B[0m=\u001B[35mAttributeError(\"'NoneType' object has no attribute 'score'\")\u001B[0m\n",
      "🧪 Experiment started.\n",
      "📺 View dataset experiments: http://localhost:6006/datasets/RGF0YXNldDo2/experiments\n",
      "🔗 View this experiment: http://localhost:6006/datasets/RGF0YXNldDo2/compare?experimentId=RXhwZXJpbWVudDoyMg==\n"
     ]
    },
    {
     "data": {
      "text/plain": "running tasks |          | 0/2 (0.0%) | ⏳ 00:00<? | ?it/s",
      "application/vnd.jupyter.widget-view+json": {
       "version_major": 2,
       "version_minor": 0,
       "model_id": "caafea23ed754cd09c0de2ab62aea564"
      }
     },
     "metadata": {},
     "output_type": "display_data"
    },
    {
     "name": "stdout",
     "output_type": "stream",
     "text": [
      "LMRequest(zenbase=LMZenbase(task_demos=(LMDemo(inputs={'inputs': {'question': 'James writes a 3-page letter to 2 different friends twice a week.  How many pages does he write a year?'}}, outputs={'outputs': {'answer': 'He writes each friend 3*2=<<3*2=6>>6 pages a week\\nSo he writes 6*2=<<6*2=12>>12 pages every week\\nThat means he writes 12*52=<<12*52=624>>624 pages a year\\n#### 624'}}, adaptor_object=None), LMDemo(inputs={'inputs': {'question': 'Natalia sold clips to 48 of her friends in April, and then she sold half as many clips in May. How many clips did Natalia sell altogether in April and May?'}}, outputs={'outputs': {'answer': 'Natalia sold 48/2 = <<48/2=24>>24 clips in May.\\nNatalia sold 48+24 = <<48+24=72>>72 clips altogether in April and May.\\n#### 72'}}, adaptor_object=None), LMDemo(inputs={'inputs': {'question': 'Betty is saving money for a new wallet which costs $100. Betty has only half of the money she needs. Her parents decided to give her $15 for that purpose, and her grandparents twice as much as her parents. How much more money does Betty need to buy the wallet?'}}, outputs={'outputs': {'answer': \"In the beginning, Betty has only 100 / 2 = $<<100/2=50>>50.\\nBetty's grandparents gave her 15 * 2 = $<<15*2=30>>30.\\nThis means, Betty needs 100 - 50 - 30 - 15 = $<<100-50-30-15=5>>5 more.\\n#### 5\"}}, adaptor_object=None)), model_params={}), inputs={'inputs': {'question': \"Janet’s ducks lay 16 eggs per day. She eats three for breakfast every morning and bakes muffins for her friends every day with four. She sells the remainder at the farmers' market daily for $2 per fresh duck egg. How much in dollars does she make every day at the farmers' market?\"}}, id='request_2j7DJM2qdSPZYWMhovmg1pmZi8D')\n",
      "\u001B[91mTraceback (most recent call last):\n",
      "  File \"/Users/amir/workspace/zenbase-lib/py/.venv/lib/python3.10/site-packages/phoenix/experiments/functions.py\", line 312, in async_run_experiment\n",
      "    _output = task(*bound_task_args.args, **bound_task_args.kwargs)\n",
      "  File \"/Users/amir/workspace/zenbase-lib/py/src/zenbase/adaptors/arize/evaluation_helper.py\", line 63, in arize_adapted_function\n",
      "    return function(input)\n",
      "  File \"/Users/amir/workspace/zenbase-lib/py/src/zenbase/types.py\", line 170, in __call__\n",
      "    response = self.fn(request, *args, **kwargs)\n",
      "  File \"/Users/amir/workspace/zenbase-lib/py/src/zenbase/core/managers.py\", line 33, in wrapper\n",
      "    return self._execute_and_trace(function, func_name, request, lm_function, *args, **kwargs)\n",
      "  File \"/Users/amir/workspace/zenbase-lib/py/src/zenbase/core/managers.py\", line 91, in _execute_and_trace\n",
      "    output = func(**combined_args)\n",
      "  File \"/var/folders/47/_rbxm97j0kl5nm_6vv2m8h540000gn/T/ipykernel_52718/1357141018.py\", line 17, in zen_chain\n",
      "    (\"user\", demo.inputs[\"question\"]),\n",
      "KeyError: 'question'\n",
      "\n",
      "The above exception was the direct cause of the following exception:\n",
      "\n",
      "RuntimeError: task failed for example id 'RGF0YXNldEV4YW1wbGU6MTc=', repetition 1\n",
      "\u001B[0m\n",
      "LMRequest(zenbase=LMZenbase(task_demos=(LMDemo(inputs={'inputs': {'question': 'James writes a 3-page letter to 2 different friends twice a week.  How many pages does he write a year?'}}, outputs={'outputs': {'answer': 'He writes each friend 3*2=<<3*2=6>>6 pages a week\\nSo he writes 6*2=<<6*2=12>>12 pages every week\\nThat means he writes 12*52=<<12*52=624>>624 pages a year\\n#### 624'}}, adaptor_object=None), LMDemo(inputs={'inputs': {'question': 'Natalia sold clips to 48 of her friends in April, and then she sold half as many clips in May. How many clips did Natalia sell altogether in April and May?'}}, outputs={'outputs': {'answer': 'Natalia sold 48/2 = <<48/2=24>>24 clips in May.\\nNatalia sold 48+24 = <<48+24=72>>72 clips altogether in April and May.\\n#### 72'}}, adaptor_object=None), LMDemo(inputs={'inputs': {'question': 'Betty is saving money for a new wallet which costs $100. Betty has only half of the money she needs. Her parents decided to give her $15 for that purpose, and her grandparents twice as much as her parents. How much more money does Betty need to buy the wallet?'}}, outputs={'outputs': {'answer': \"In the beginning, Betty has only 100 / 2 = $<<100/2=50>>50.\\nBetty's grandparents gave her 15 * 2 = $<<15*2=30>>30.\\nThis means, Betty needs 100 - 50 - 30 - 15 = $<<100-50-30-15=5>>5 more.\\n#### 5\"}}, adaptor_object=None)), model_params={}), inputs={'inputs': {'question': 'A robe takes 2 bolts of blue fiber and half that much white fiber.  How many bolts in total does it take?'}}, id='request_2j7DJLmijXninXfkquEML8LjixF')\n",
      "\u001B[91mTraceback (most recent call last):\n",
      "  File \"/Users/amir/workspace/zenbase-lib/py/.venv/lib/python3.10/site-packages/phoenix/experiments/functions.py\", line 312, in async_run_experiment\n",
      "    _output = task(*bound_task_args.args, **bound_task_args.kwargs)\n",
      "  File \"/Users/amir/workspace/zenbase-lib/py/src/zenbase/adaptors/arize/evaluation_helper.py\", line 63, in arize_adapted_function\n",
      "    return function(input)\n",
      "  File \"/Users/amir/workspace/zenbase-lib/py/src/zenbase/types.py\", line 170, in __call__\n",
      "    response = self.fn(request, *args, **kwargs)\n",
      "  File \"/Users/amir/workspace/zenbase-lib/py/src/zenbase/core/managers.py\", line 33, in wrapper\n",
      "    return self._execute_and_trace(function, func_name, request, lm_function, *args, **kwargs)\n",
      "  File \"/Users/amir/workspace/zenbase-lib/py/src/zenbase/core/managers.py\", line 91, in _execute_and_trace\n",
      "    output = func(**combined_args)\n",
      "  File \"/var/folders/47/_rbxm97j0kl5nm_6vv2m8h540000gn/T/ipykernel_52718/1357141018.py\", line 17, in zen_chain\n",
      "    (\"user\", demo.inputs[\"question\"]),\n",
      "KeyError: 'question'\n",
      "\n",
      "The above exception was the direct cause of the following exception:\n",
      "\n",
      "RuntimeError: task failed for example id 'RGF0YXNldEV4YW1wbGU6MTg=', repetition 1\n",
      "\u001B[0m\n",
      "✅ Task runs completed.\n",
      "🧠 Evaluation started.\n"
     ]
    },
    {
     "data": {
      "text/plain": "running experiment evaluations |          | 0/2 (0.0%) | ⏳ 00:00<? | ?it/s",
      "application/vnd.jupyter.widget-view+json": {
       "version_major": 2,
       "version_minor": 0,
       "model_id": "b75547ac02234234b87354b50471bdcf"
      }
     },
     "metadata": {},
     "output_type": "display_data"
    },
    {
     "name": "stdout",
     "output_type": "stream",
     "text": [
      "None {'answer': 'Janet sells 16 - 3 - 4 = <<16-3-4=9>>9 duck eggs a day.\\nShe makes 9 * 2 = $<<9*2=18>>18 every day at the farmer’s market.\\n#### 18'}\n",
      "\u001B[91mTraceback (most recent call last):\n",
      "  File \"/Users/amir/workspace/zenbase-lib/py/.venv/lib/python3.10/site-packages/phoenix/experiments/functions.py\", line 560, in async_evaluate_run\n",
      "    result = await evaluator.async_evaluate(\n",
      "  File \"/Users/amir/workspace/zenbase-lib/py/.venv/lib/python3.10/site-packages/phoenix/experiments/evaluators/base.py\", line 76, in async_evaluate\n",
      "    return self.evaluate(\n",
      "  File \"/Users/amir/workspace/zenbase-lib/py/.venv/lib/python3.10/site-packages/phoenix/experiments/evaluators/utils.py\", line 149, in evaluate\n",
      "    result = func(*bound_signature.args, **bound_signature.kwargs)\n",
      "  File \"/var/folders/47/_rbxm97j0kl5nm_6vv2m8h540000gn/T/ipykernel_52718/2607286871.py\", line 6, in score_answer\n",
      "    output = output.split(\"#### \")[-1]\n",
      "AttributeError: 'NoneType' object has no attribute 'split'\n",
      "\n",
      "The above exception was the direct cause of the following exception:\n",
      "\n",
      "RuntimeError: evaluator failed for example id 'RGF0YXNldEV4YW1wbGU6MTc=', repetition 1\n",
      "\u001B[0m\n",
      "None {'answer': 'It takes 2/2=<<2/2=1>>1 bolt of white fiber\\nSo the total amount of fabric is 2+1=<<2+1=3>>3 bolts of fabric\\n#### 3'}\n",
      "\u001B[91mTraceback (most recent call last):\n",
      "  File \"/Users/amir/workspace/zenbase-lib/py/.venv/lib/python3.10/site-packages/phoenix/experiments/functions.py\", line 560, in async_evaluate_run\n",
      "    result = await evaluator.async_evaluate(\n",
      "  File \"/Users/amir/workspace/zenbase-lib/py/.venv/lib/python3.10/site-packages/phoenix/experiments/evaluators/base.py\", line 76, in async_evaluate\n",
      "    return self.evaluate(\n",
      "  File \"/Users/amir/workspace/zenbase-lib/py/.venv/lib/python3.10/site-packages/phoenix/experiments/evaluators/utils.py\", line 149, in evaluate\n",
      "    result = func(*bound_signature.args, **bound_signature.kwargs)\n",
      "  File \"/var/folders/47/_rbxm97j0kl5nm_6vv2m8h540000gn/T/ipykernel_52718/2607286871.py\", line 6, in score_answer\n",
      "    output = output.split(\"#### \")[-1]\n",
      "AttributeError: 'NoneType' object has no attribute 'split'\n",
      "\n",
      "The above exception was the direct cause of the following exception:\n",
      "\n",
      "RuntimeError: evaluator failed for example id 'RGF0YXNldEV4YW1wbGU6MTg=', repetition 1\n",
      "\u001B[0m\n",
      "\n",
      "🔗 View this experiment: http://localhost:6006/datasets/RGF0YXNldDo2/compare?experimentId=RXhwZXJpbWVudDoyMg==\n",
      "\n",
      "Experiment Summary (07/11/24 02:19 PM -0600)\n",
      "--------------------------------------------\n",
      "      evaluator  n  n_errors  \\\n",
      "0  score_answer  2         2   \n",
      "\n",
      "                                           top_error  \n",
      "0  AttributeError(\"'NoneType' object has no attri...  \n",
      "\n",
      "Tasks Summary (07/11/24 02:19 PM -0600)\n",
      "---------------------------------------\n",
      "   n_examples  n_runs  n_errors             top_error\n",
      "0           2       2         2  KeyError('question')\n",
      "\u001B[2m2024-07-11 14:19:10\u001B[0m [\u001B[31m\u001B[1merror    \u001B[0m] \u001B[1mcandidate evaluation failed   \u001B[0m \u001B[36merror\u001B[0m=\u001B[35mAttributeError(\"'NoneType' object has no attribute 'score'\")\u001B[0m\n",
      "🧪 Experiment started.\n",
      "📺 View dataset experiments: http://localhost:6006/datasets/RGF0YXNldDo2/experiments\n",
      "🔗 View this experiment: http://localhost:6006/datasets/RGF0YXNldDo2/compare?experimentId=RXhwZXJpbWVudDoyMw==\n"
     ]
    },
    {
     "data": {
      "text/plain": "running tasks |          | 0/2 (0.0%) | ⏳ 00:00<? | ?it/s",
      "application/vnd.jupyter.widget-view+json": {
       "version_major": 2,
       "version_minor": 0,
       "model_id": "7129bec350e442f28e5908f8bb022d05"
      }
     },
     "metadata": {},
     "output_type": "display_data"
    },
    {
     "name": "stdout",
     "output_type": "stream",
     "text": [
      "LMRequest(zenbase=LMZenbase(task_demos=(LMDemo(inputs={'inputs': {'question': 'Weng earns $12 an hour for babysitting. Yesterday, she just did 50 minutes of babysitting. How much did she earn?'}}, outputs={'outputs': {'answer': 'Weng earns 12/60 = $<<12/60=0.2>>0.2 per minute.\\nWorking 50 minutes, she earned 0.2 x 50 = $<<0.2*50=10>>10.\\n#### 10'}}, adaptor_object=None), LMDemo(inputs={'inputs': {'question': 'Julie is reading a 120-page book. Yesterday, she was able to read 12 pages and today, she read twice as many pages as yesterday. If she wants to read half of the remaining pages tomorrow, how many pages should she read?'}}, outputs={'outputs': {'answer': 'Maila read 12 x 2 = <<12*2=24>>24 pages today.\\nSo she was able to read a total of 12 + 24 = <<12+24=36>>36 pages since yesterday.\\nThere are 120 - 36 = <<120-36=84>>84 pages left to be read.\\nSince she wants to read half of the remaining pages tomorrow, then she should read 84/2 = <<84/2=42>>42 pages.\\n#### 42'}}, adaptor_object=None), LMDemo(inputs={'inputs': {'question': 'Natalia sold clips to 48 of her friends in April, and then she sold half as many clips in May. How many clips did Natalia sell altogether in April and May?'}}, outputs={'outputs': {'answer': 'Natalia sold 48/2 = <<48/2=24>>24 clips in May.\\nNatalia sold 48+24 = <<48+24=72>>72 clips altogether in April and May.\\n#### 72'}}, adaptor_object=None)), model_params={}), inputs={'inputs': {'question': \"Janet’s ducks lay 16 eggs per day. She eats three for breakfast every morning and bakes muffins for her friends every day with four. She sells the remainder at the farmers' market daily for $2 per fresh duck egg. How much in dollars does she make every day at the farmers' market?\"}}, id='request_2j7DJYkQP9sEurOPIKYxlaGDvyW')\n",
      "\u001B[91mTraceback (most recent call last):\n",
      "  File \"/Users/amir/workspace/zenbase-lib/py/.venv/lib/python3.10/site-packages/phoenix/experiments/functions.py\", line 312, in async_run_experiment\n",
      "    _output = task(*bound_task_args.args, **bound_task_args.kwargs)\n",
      "  File \"/Users/amir/workspace/zenbase-lib/py/src/zenbase/adaptors/arize/evaluation_helper.py\", line 63, in arize_adapted_function\n",
      "    return function(input)\n",
      "  File \"/Users/amir/workspace/zenbase-lib/py/src/zenbase/types.py\", line 170, in __call__\n",
      "    response = self.fn(request, *args, **kwargs)\n",
      "  File \"/Users/amir/workspace/zenbase-lib/py/src/zenbase/core/managers.py\", line 33, in wrapper\n",
      "    return self._execute_and_trace(function, func_name, request, lm_function, *args, **kwargs)\n",
      "  File \"/Users/amir/workspace/zenbase-lib/py/src/zenbase/core/managers.py\", line 91, in _execute_and_trace\n",
      "    output = func(**combined_args)\n",
      "  File \"/var/folders/47/_rbxm97j0kl5nm_6vv2m8h540000gn/T/ipykernel_52718/1357141018.py\", line 17, in zen_chain\n",
      "    (\"user\", demo.inputs[\"question\"]),\n",
      "KeyError: 'question'\n",
      "\n",
      "The above exception was the direct cause of the following exception:\n",
      "\n",
      "RuntimeError: task failed for example id 'RGF0YXNldEV4YW1wbGU6MTc=', repetition 1\n",
      "\u001B[0m\n",
      "LMRequest(zenbase=LMZenbase(task_demos=(LMDemo(inputs={'inputs': {'question': 'Weng earns $12 an hour for babysitting. Yesterday, she just did 50 minutes of babysitting. How much did she earn?'}}, outputs={'outputs': {'answer': 'Weng earns 12/60 = $<<12/60=0.2>>0.2 per minute.\\nWorking 50 minutes, she earned 0.2 x 50 = $<<0.2*50=10>>10.\\n#### 10'}}, adaptor_object=None), LMDemo(inputs={'inputs': {'question': 'Julie is reading a 120-page book. Yesterday, she was able to read 12 pages and today, she read twice as many pages as yesterday. If she wants to read half of the remaining pages tomorrow, how many pages should she read?'}}, outputs={'outputs': {'answer': 'Maila read 12 x 2 = <<12*2=24>>24 pages today.\\nSo she was able to read a total of 12 + 24 = <<12+24=36>>36 pages since yesterday.\\nThere are 120 - 36 = <<120-36=84>>84 pages left to be read.\\nSince she wants to read half of the remaining pages tomorrow, then she should read 84/2 = <<84/2=42>>42 pages.\\n#### 42'}}, adaptor_object=None), LMDemo(inputs={'inputs': {'question': 'Natalia sold clips to 48 of her friends in April, and then she sold half as many clips in May. How many clips did Natalia sell altogether in April and May?'}}, outputs={'outputs': {'answer': 'Natalia sold 48/2 = <<48/2=24>>24 clips in May.\\nNatalia sold 48+24 = <<48+24=72>>72 clips altogether in April and May.\\n#### 72'}}, adaptor_object=None)), model_params={}), inputs={'inputs': {'question': 'A robe takes 2 bolts of blue fiber and half that much white fiber.  How many bolts in total does it take?'}}, id='request_2j7DJb8UkOGsTm4XlPIG6r3ZeA3')\n",
      "\u001B[91mTraceback (most recent call last):\n",
      "  File \"/Users/amir/workspace/zenbase-lib/py/.venv/lib/python3.10/site-packages/phoenix/experiments/functions.py\", line 312, in async_run_experiment\n",
      "    _output = task(*bound_task_args.args, **bound_task_args.kwargs)\n",
      "  File \"/Users/amir/workspace/zenbase-lib/py/src/zenbase/adaptors/arize/evaluation_helper.py\", line 63, in arize_adapted_function\n",
      "    return function(input)\n",
      "  File \"/Users/amir/workspace/zenbase-lib/py/src/zenbase/types.py\", line 170, in __call__\n",
      "    response = self.fn(request, *args, **kwargs)\n",
      "  File \"/Users/amir/workspace/zenbase-lib/py/src/zenbase/core/managers.py\", line 33, in wrapper\n",
      "    return self._execute_and_trace(function, func_name, request, lm_function, *args, **kwargs)\n",
      "  File \"/Users/amir/workspace/zenbase-lib/py/src/zenbase/core/managers.py\", line 91, in _execute_and_trace\n",
      "    output = func(**combined_args)\n",
      "  File \"/var/folders/47/_rbxm97j0kl5nm_6vv2m8h540000gn/T/ipykernel_52718/1357141018.py\", line 17, in zen_chain\n",
      "    (\"user\", demo.inputs[\"question\"]),\n",
      "KeyError: 'question'\n",
      "\n",
      "The above exception was the direct cause of the following exception:\n",
      "\n",
      "RuntimeError: task failed for example id 'RGF0YXNldEV4YW1wbGU6MTg=', repetition 1\n",
      "\u001B[0m\n",
      "✅ Task runs completed.\n",
      "🧠 Evaluation started.\n"
     ]
    },
    {
     "data": {
      "text/plain": "running experiment evaluations |          | 0/2 (0.0%) | ⏳ 00:00<? | ?it/s",
      "application/vnd.jupyter.widget-view+json": {
       "version_major": 2,
       "version_minor": 0,
       "model_id": "805eb12cd9384690acd8180607033f46"
      }
     },
     "metadata": {},
     "output_type": "display_data"
    },
    {
     "name": "stdout",
     "output_type": "stream",
     "text": [
      "None {'answer': 'Janet sells 16 - 3 - 4 = <<16-3-4=9>>9 duck eggs a day.\\nShe makes 9 * 2 = $<<9*2=18>>18 every day at the farmer’s market.\\n#### 18'}\n",
      "\u001B[91mTraceback (most recent call last):\n",
      "  File \"/Users/amir/workspace/zenbase-lib/py/.venv/lib/python3.10/site-packages/phoenix/experiments/functions.py\", line 560, in async_evaluate_run\n",
      "    result = await evaluator.async_evaluate(\n",
      "  File \"/Users/amir/workspace/zenbase-lib/py/.venv/lib/python3.10/site-packages/phoenix/experiments/evaluators/base.py\", line 76, in async_evaluate\n",
      "    return self.evaluate(\n",
      "  File \"/Users/amir/workspace/zenbase-lib/py/.venv/lib/python3.10/site-packages/phoenix/experiments/evaluators/utils.py\", line 149, in evaluate\n",
      "    result = func(*bound_signature.args, **bound_signature.kwargs)\n",
      "  File \"/var/folders/47/_rbxm97j0kl5nm_6vv2m8h540000gn/T/ipykernel_52718/2607286871.py\", line 6, in score_answer\n",
      "    output = output.split(\"#### \")[-1]\n",
      "AttributeError: 'NoneType' object has no attribute 'split'\n",
      "\n",
      "The above exception was the direct cause of the following exception:\n",
      "\n",
      "RuntimeError: evaluator failed for example id 'RGF0YXNldEV4YW1wbGU6MTc=', repetition 1\n",
      "\u001B[0m\n",
      "None {'answer': 'It takes 2/2=<<2/2=1>>1 bolt of white fiber\\nSo the total amount of fabric is 2+1=<<2+1=3>>3 bolts of fabric\\n#### 3'}\n",
      "\u001B[91mTraceback (most recent call last):\n",
      "  File \"/Users/amir/workspace/zenbase-lib/py/.venv/lib/python3.10/site-packages/phoenix/experiments/functions.py\", line 560, in async_evaluate_run\n",
      "    result = await evaluator.async_evaluate(\n",
      "  File \"/Users/amir/workspace/zenbase-lib/py/.venv/lib/python3.10/site-packages/phoenix/experiments/evaluators/base.py\", line 76, in async_evaluate\n",
      "    return self.evaluate(\n",
      "  File \"/Users/amir/workspace/zenbase-lib/py/.venv/lib/python3.10/site-packages/phoenix/experiments/evaluators/utils.py\", line 149, in evaluate\n",
      "    result = func(*bound_signature.args, **bound_signature.kwargs)\n",
      "  File \"/var/folders/47/_rbxm97j0kl5nm_6vv2m8h540000gn/T/ipykernel_52718/2607286871.py\", line 6, in score_answer\n",
      "    output = output.split(\"#### \")[-1]\n",
      "AttributeError: 'NoneType' object has no attribute 'split'\n",
      "\n",
      "The above exception was the direct cause of the following exception:\n",
      "\n",
      "RuntimeError: evaluator failed for example id 'RGF0YXNldEV4YW1wbGU6MTg=', repetition 1\n",
      "\u001B[0m\n",
      "\n",
      "🔗 View this experiment: http://localhost:6006/datasets/RGF0YXNldDo2/compare?experimentId=RXhwZXJpbWVudDoyMw==\n",
      "\n",
      "Experiment Summary (07/11/24 02:19 PM -0600)\n",
      "--------------------------------------------\n",
      "      evaluator  n  n_errors  \\\n",
      "0  score_answer  2         2   \n",
      "\n",
      "                                           top_error  \n",
      "0  AttributeError(\"'NoneType' object has no attri...  \n",
      "\n",
      "Tasks Summary (07/11/24 02:19 PM -0600)\n",
      "---------------------------------------\n",
      "   n_examples  n_runs  n_errors             top_error\n",
      "0           2       2         2  KeyError('question')\n",
      "\u001B[2m2024-07-11 14:19:12\u001B[0m [\u001B[31m\u001B[1merror    \u001B[0m] \u001B[1mcandidate evaluation failed   \u001B[0m \u001B[36merror\u001B[0m=\u001B[35mAttributeError(\"'NoneType' object has no attribute 'score'\")\u001B[0m\n"
     ]
    }
   ],
   "source": [
    "best_fn, candidate_results, _ = optimizer.perform(\n",
    "    zen_chain,\n",
    "    evaluator=zen_arize_adaptor.metric_evaluator(\n",
    "        dataset=arize_phoenix.get_dataset(name=test_set), evaluators=[score_answer]\n",
    "    ),\n",
    "    samples=4,\n",
    "    concurrency=1,\n",
    "    rounds=1,\n",
    ")"
   ],
   "metadata": {
    "collapsed": false,
    "ExecuteTime": {
     "end_time": "2024-07-11T20:19:12.476479Z",
     "start_time": "2024-07-11T20:19:02.806906Z"
    }
   },
   "execution_count": 49
  },
  {
   "cell_type": "markdown",
   "source": [
    "### Use the best function"
   ],
   "metadata": {
    "collapsed": false
   }
  },
  {
   "cell_type": "code",
   "execution_count": 51,
   "metadata": {
    "ExecuteTime": {
     "end_time": "2024-07-11T20:19:26.242595Z",
     "start_time": "2024-07-11T20:19:25.499463Z"
    }
   },
   "outputs": [
    {
     "name": "stdout",
     "output_type": "stream",
     "text": [
      "LMRequest(zenbase=LMZenbase(task_demos=[], model_params={}), inputs={'inputs': {'question': 'What is 2+2?'}}, id='request_2j7DLU9AD9JIwB44lPOp4yH1J2U')\n",
      "Mathing...\n"
     ]
    },
    {
     "data": {
      "text/plain": "'4'"
     },
     "execution_count": 51,
     "metadata": {},
     "output_type": "execute_result"
    }
   ],
   "source": [
    "output = best_fn({\"inputs\":{\"question\": \"What is 2+2?\"}})\n",
    "output"
   ]
  },
  {
   "cell_type": "markdown",
   "source": [
    "### Save the best function"
   ],
   "metadata": {
    "collapsed": false
   }
  },
  {
   "cell_type": "code",
   "execution_count": 53,
   "metadata": {
    "ExecuteTime": {
     "end_time": "2024-07-11T20:19:45.315715Z",
     "start_time": "2024-07-11T20:19:44.568581Z"
    }
   },
   "outputs": [
    {
     "name": "stdout",
     "output_type": "stream",
     "text": [
      "LMRequest(zenbase=LMZenbase(task_demos=[], model_params={}), inputs={'inputs': {'question': 'What is 2+2?'}}, id='request_2j7DNqKCZk1e4qH5wCRr5nqC7Ja')\n",
      "Mathing...\n"
     ]
    },
    {
     "data": {
      "text/plain": "'4'"
     },
     "execution_count": 53,
     "metadata": {},
     "output_type": "execute_result"
    }
   ],
   "source": [
    "# You can also save the zenbase params for re-use\n",
    "import pickle\n",
    "\n",
    "pickled_zenbase = pickle.dumps(best_fn.zenbase)\n",
    "zen_chain.zenbase = pickle.loads(pickled_zenbase)\n",
    "\n",
    "zen_chain({\"inputs\":{\"question\": \"What is 2+2?\"}}) # uses the best few-shot demos"
   ]
  }
 ],
 "metadata": {
  "kernelspec": {
   "display_name": ".venv",
   "language": "python",
   "name": "python3"
  },
  "language_info": {
   "codemirror_mode": {
    "name": "ipython",
    "version": 3
   },
   "file_extension": ".py",
   "mimetype": "text/x-python",
   "name": "python",
   "nbconvert_exporter": "python",
   "pygments_lexer": "ipython3",
   "version": "3.10.13"
  }
 },
 "nbformat": 4,
 "nbformat_minor": 2
}
